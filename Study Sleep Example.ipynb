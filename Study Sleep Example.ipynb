{
 "cells": [
  {
   "cell_type": "code",
   "execution_count": 38,
   "metadata": {
    "collapsed": true
   },
   "outputs": [],
   "source": [
    "import tensorflow as tf"
   ]
  },
  {
   "cell_type": "code",
   "execution_count": 39,
   "metadata": {
    "collapsed": true
   },
   "outputs": [],
   "source": [
    "import numpy as np\n"
   ]
  },
  {
   "cell_type": "code",
   "execution_count": 40,
   "metadata": {
    "collapsed": true
   },
   "outputs": [],
   "source": [
    "def getData():\n",
    "    \"\"\"study, sleep, score data\"\"\"\n",
    "\n",
    "    # high scorers\n",
    "    h_st = np.random.randint(8, 14, 1000)\n",
    "    h_sl = np.random.randint(2, 5, 1000)\n",
    "    h_sc = np.random.randint(85, 100, 1000)\n",
    "\n",
    "    # medium scorers\n",
    "    m_st = np.random.randint(4, 7, 1000)\n",
    "    m_sl = np.random.randint(7, 10, 1000)\n",
    "    m_sc = np.random.randint(50, 84, 1000)\n",
    "\n",
    "    # low scorers\n",
    "    l_st = np.random.randint(0, 4, 1000)\n",
    "    l_sl = np.random.randint(8, 14, 1000)\n",
    "    l_sc = np.random.randint(0, 49, 1000)\n",
    "\n",
    "    # combine\n",
    "    h=np.stack((h_st, h_sl, h_sc))\n",
    "    m=np.stack((m_st, m_sl, m_sc))\n",
    "    l=np.stack((l_st, l_sl, l_sc))\n",
    "\n",
    "    # concat & shuffle all\n",
    "    d=np.concatenate((h.T, m.T, l.T))\n",
    "    np.random.shuffle(d)\n",
    "    return d\n"
   ]
  },
  {
   "cell_type": "code",
   "execution_count": 41,
   "metadata": {
    "collapsed": true
   },
   "outputs": [],
   "source": [
    "features = tf.placeholder(\"float\", [None, 2], name=\"features\")\n",
    "marks = tf.placeholder(\"float\", [None, 1], name=\"marks\")"
   ]
  },
  {
   "cell_type": "code",
   "execution_count": 42,
   "metadata": {
    "collapsed": false
   },
   "outputs": [
    {
     "name": "stdout",
     "output_type": "stream",
     "text": [
      "(?, 2) (?, 1)\n"
     ]
    }
   ],
   "source": [
    "print features.shape, marks.shape"
   ]
  },
  {
   "cell_type": "code",
   "execution_count": 43,
   "metadata": {
    "collapsed": false
   },
   "outputs": [],
   "source": [
    "# intialise weights layer 1\n",
    "initial_w = tf.random_uniform([2, 3], -1.0, 1.0) #np.zeros((2, 3)).astype(np.float32)\n",
    "wL1 = tf.Variable(initial_w, name=\"wL1\", dtype=\"float32\")"
   ]
  },
  {
   "cell_type": "code",
   "execution_count": 44,
   "metadata": {
    "collapsed": false
   },
   "outputs": [],
   "source": [
    "layer1 = tf.matmul(features, wL1)"
   ]
  },
  {
   "cell_type": "code",
   "execution_count": 45,
   "metadata": {
    "collapsed": false
   },
   "outputs": [
    {
     "name": "stdout",
     "output_type": "stream",
     "text": [
      "(?, 3)\n"
     ]
    }
   ],
   "source": [
    "print layer1.get_shape()"
   ]
  },
  {
   "cell_type": "code",
   "execution_count": 46,
   "metadata": {
    "collapsed": true
   },
   "outputs": [],
   "source": [
    "# intialise weights layer 2\n",
    "initial__w = tf.random_uniform([3, 1], -1.0, 1.0) #np.zeros((3, 1)).astype(np.float32)\n",
    "wL2 = tf.Variable(initial__w, name=\"wL2\", dtype=\"float32\")"
   ]
  },
  {
   "cell_type": "code",
   "execution_count": 47,
   "metadata": {
    "collapsed": false
   },
   "outputs": [],
   "source": [
    "layer2 = tf.matmul(layer1, wL2)"
   ]
  },
  {
   "cell_type": "code",
   "execution_count": 48,
   "metadata": {
    "collapsed": false
   },
   "outputs": [
    {
     "name": "stdout",
     "output_type": "stream",
     "text": [
      "(?, 1)\n"
     ]
    }
   ],
   "source": [
    "print layer2.get_shape()"
   ]
  },
  {
   "cell_type": "code",
   "execution_count": 49,
   "metadata": {
    "collapsed": true
   },
   "outputs": [],
   "source": [
    "loss = tf.reduce_mean(tf.square(layer2 - marks))"
   ]
  },
  {
   "cell_type": "code",
   "execution_count": 50,
   "metadata": {
    "collapsed": true
   },
   "outputs": [],
   "source": [
    "optimizer = tf.train.AdamOptimizer(0.5)"
   ]
  },
  {
   "cell_type": "code",
   "execution_count": 51,
   "metadata": {
    "collapsed": true
   },
   "outputs": [],
   "source": [
    "train = optimizer.minimize(loss)"
   ]
  },
  {
   "cell_type": "code",
   "execution_count": 52,
   "metadata": {
    "collapsed": false
   },
   "outputs": [
    {
     "name": "stdout",
     "output_type": "stream",
     "text": [
      "[[ 66.06153107]]\n",
      "[[ 101.0925827]]\n",
      "[[ 22.87485504]]\n"
     ]
    }
   ],
   "source": [
    "with tf.Session() as sess:\n",
    "    sess.run(tf.global_variables_initializer())\n",
    "    trainData = getData()\n",
    "    f = trainData[:,:2].astype(\"float32\")\n",
    "    m = trainData[:,2:3].astype(\"float32\")\n",
    "    for i in range(5000):\n",
    "        l, _, __ = sess.run([loss, train, layer2], feed_dict={features:f, marks:m})\n",
    "    \n",
    "    # testing our model now\n",
    "    f = [[6, 9]]\n",
    "    op = sess.run(layer2, feed_dict={features:f, marks:[[0]]})\n",
    "    print op\n",
    "    \n",
    "    # testing our model now\n",
    "    f = [[12, 1]]\n",
    "    op = sess.run(layer2, feed_dict={features:f, marks:[[0]]})\n",
    "    print op\n",
    "    \n",
    "    # testing our model now\n",
    "    f = [[1, 8]]\n",
    "    op = sess.run(layer2, feed_dict={features:f, marks:[[0]]})\n",
    "    print op"
   ]
  },
  {
   "cell_type": "code",
   "execution_count": null,
   "metadata": {
    "collapsed": true
   },
   "outputs": [],
   "source": []
  }
 ],
 "metadata": {
  "kernelspec": {
   "display_name": "Python 2",
   "language": "python",
   "name": "python2"
  },
  "language_info": {
   "codemirror_mode": {
    "name": "ipython",
    "version": 2
   },
   "file_extension": ".py",
   "mimetype": "text/x-python",
   "name": "python",
   "nbconvert_exporter": "python",
   "pygments_lexer": "ipython2",
   "version": "2.7.9"
  }
 },
 "nbformat": 4,
 "nbformat_minor": 1
}
