{
 "cells": [
  {
   "cell_type": "code",
   "execution_count": 18,
   "metadata": {
    "collapsed": true
   },
   "outputs": [],
   "source": [
    "import tensorflow as tf\n",
    "import numpy as np"
   ]
  },
  {
   "cell_type": "code",
   "execution_count": 19,
   "metadata": {
    "collapsed": false
   },
   "outputs": [],
   "source": [
    "x = tf.placeholder(\"float\", [100], name=\"x\")"
   ]
  },
  {
   "cell_type": "code",
   "execution_count": 20,
   "metadata": {
    "collapsed": false
   },
   "outputs": [],
   "source": [
    "# intialise weights\n",
    "initial_w = np.zeros((1, 1)).astype(np.float32)\n",
    "w = tf.Variable(initial_w, name=\"w\", dtype=\"float32\")"
   ]
  },
  {
   "cell_type": "code",
   "execution_count": 21,
   "metadata": {
    "collapsed": true
   },
   "outputs": [],
   "source": [
    "# initialise biases\n",
    "initial_b = np.zeros((100, 1)).astype(np.float32)\n",
    "b = tf.Variable(initial_b, name=\"b\", dtype=\"float32\")"
   ]
  },
  {
   "cell_type": "code",
   "execution_count": 22,
   "metadata": {
    "collapsed": true
   },
   "outputs": [],
   "source": [
    "# initialise true output\n",
    "y_expected = x*0.5 + 3 # function will learn 0.5 as weight and 3 as bias from this program"
   ]
  },
  {
   "cell_type": "code",
   "execution_count": 23,
   "metadata": {
    "collapsed": false
   },
   "outputs": [],
   "source": [
    "# what we want out node to learn\n",
    "y_output = x*w + b"
   ]
  },
  {
   "cell_type": "code",
   "execution_count": 24,
   "metadata": {
    "collapsed": true
   },
   "outputs": [],
   "source": [
    "loss = tf.reduce_mean(tf.square(y_output - y_expected))"
   ]
  },
  {
   "cell_type": "code",
   "execution_count": 25,
   "metadata": {
    "collapsed": true
   },
   "outputs": [],
   "source": [
    "optimizer = tf.train.GradientDescentOptimizer(1)"
   ]
  },
  {
   "cell_type": "code",
   "execution_count": 26,
   "metadata": {
    "collapsed": true
   },
   "outputs": [],
   "source": [
    "train = optimizer.minimize(loss)"
   ]
  },
  {
   "cell_type": "code",
   "execution_count": 27,
   "metadata": {
    "collapsed": true
   },
   "outputs": [],
   "source": [
    "saver = tf.train.Saver()"
   ]
  },
  {
   "cell_type": "code",
   "execution_count": 32,
   "metadata": {
    "collapsed": false
   },
   "outputs": [
    {
     "name": "stdout",
     "output_type": "stream",
     "text": [
      "Learnt weight is:  [[ 0.52534395]]\n",
      "Learnt bias is:  [[ 2.98347783]\n",
      " [ 2.98347783]\n",
      " [ 2.98347783]\n",
      " [ 2.98347783]\n",
      " [ 2.98347783]\n",
      " [ 2.98347783]\n",
      " [ 2.98347783]\n",
      " [ 2.98347783]\n",
      " [ 2.98347783]\n",
      " [ 2.98347783]\n",
      " [ 2.98347783]\n",
      " [ 2.98347783]\n",
      " [ 2.98347783]\n",
      " [ 2.98347783]\n",
      " [ 2.98347783]\n",
      " [ 2.98347783]\n",
      " [ 2.98347783]\n",
      " [ 2.98347783]\n",
      " [ 2.98347783]\n",
      " [ 2.98347783]\n",
      " [ 2.98347783]\n",
      " [ 2.98347783]\n",
      " [ 2.98347783]\n",
      " [ 2.98347783]\n",
      " [ 2.98347783]\n",
      " [ 2.98347783]\n",
      " [ 2.98347783]\n",
      " [ 2.98347783]\n",
      " [ 2.98347783]\n",
      " [ 2.98347783]\n",
      " [ 2.98347783]\n",
      " [ 2.98347783]\n",
      " [ 2.98347783]\n",
      " [ 2.98347783]\n",
      " [ 2.98347783]\n",
      " [ 2.98347783]\n",
      " [ 2.98347783]\n",
      " [ 2.98347783]\n",
      " [ 2.98347783]\n",
      " [ 2.98347783]\n",
      " [ 2.98347783]\n",
      " [ 2.98347783]\n",
      " [ 2.98347783]\n",
      " [ 2.98347783]\n",
      " [ 2.98347783]\n",
      " [ 2.98347783]\n",
      " [ 2.98347783]\n",
      " [ 2.98347783]\n",
      " [ 2.98347783]\n",
      " [ 2.98347783]\n",
      " [ 2.98347783]\n",
      " [ 2.98347783]\n",
      " [ 2.98347783]\n",
      " [ 2.98347783]\n",
      " [ 2.98347783]\n",
      " [ 2.98347783]\n",
      " [ 2.98347783]\n",
      " [ 2.98347783]\n",
      " [ 2.98347783]\n",
      " [ 2.98347783]\n",
      " [ 2.98347783]\n",
      " [ 2.98347783]\n",
      " [ 2.98347783]\n",
      " [ 2.98347783]\n",
      " [ 2.98347783]\n",
      " [ 2.98347783]\n",
      " [ 2.98347783]\n",
      " [ 2.98347783]\n",
      " [ 2.98347783]\n",
      " [ 2.98347783]\n",
      " [ 2.98347783]\n",
      " [ 2.98347783]\n",
      " [ 2.98347783]\n",
      " [ 2.98347783]\n",
      " [ 2.98347783]\n",
      " [ 2.98347783]\n",
      " [ 2.98347783]\n",
      " [ 2.98347783]\n",
      " [ 2.98347783]\n",
      " [ 2.98347783]\n",
      " [ 2.98347783]\n",
      " [ 2.98347783]\n",
      " [ 2.98347783]\n",
      " [ 2.98347783]\n",
      " [ 2.98347783]\n",
      " [ 2.98347783]\n",
      " [ 2.98347783]\n",
      " [ 2.98347783]\n",
      " [ 2.98347783]\n",
      " [ 2.98347783]\n",
      " [ 2.98347783]\n",
      " [ 2.98347783]\n",
      " [ 2.98347783]\n",
      " [ 2.98347783]\n",
      " [ 2.98347783]\n",
      " [ 2.98347783]\n",
      " [ 2.98347783]\n",
      " [ 2.98347783]\n",
      " [ 2.98347783]\n",
      " [ 2.98347783]]\n",
      "[None, array([[ 3.08054662,  3.30132675,  3.24964952, ...,  3.36360264,\n",
      "         3.0474124 ,  3.37237382],\n",
      "       [ 3.08054662,  3.30132675,  3.24964952, ...,  3.36360264,\n",
      "         3.0474124 ,  3.37237382],\n",
      "       [ 3.08054662,  3.30132675,  3.24964952, ...,  3.36360264,\n",
      "         3.0474124 ,  3.37237382],\n",
      "       ..., \n",
      "       [ 3.08054662,  3.30132675,  3.24964952, ...,  3.36360264,\n",
      "         3.0474124 ,  3.37237382],\n",
      "       [ 3.08054662,  3.30132675,  3.24964952, ...,  3.36360264,\n",
      "         3.0474124 ,  3.37237382],\n",
      "       [ 3.08054662,  3.30132675,  3.24964952, ...,  3.36360264,\n",
      "         3.0474124 ,  3.37237382]], dtype=float32)]\n",
      "Model saved in file: /home/siftr/notebook/samplemodel1.ckpt\n",
      "INFO:tensorflow:Restoring parameters from /home/siftr/notebook/samplemodel1.ckpt\n",
      "Restored model\n"
     ]
    }
   ],
   "source": [
    "with tf.Session() as sess:\n",
    "    sess.run(tf.global_variables_initializer())\n",
    "    x_data = np.random.rand(100).astype(np.float32)\n",
    "    for i in range(1001):\n",
    "        y = sess.run([train, y_output], feed_dict={x: x_data})\n",
    "\n",
    "    print \"Learnt weight is: \", w.eval()\n",
    "    print \"Learnt bias is: \", b.eval()\n",
    "    print y\n",
    "    \n",
    "    save_path = saver.save(sess, \"/home/siftr/notebook/samplemodel1.ckpt\")\n",
    "    print \"Model saved in file: %s\" % save_path\n",
    "    saver.restore(sess, \"/home/siftr/notebook/samplemodel1.ckpt\")\n",
    "    print \"Restored model\""
   ]
  },
  {
   "cell_type": "code",
   "execution_count": null,
   "metadata": {
    "collapsed": false
   },
   "outputs": [],
   "source": []
  },
  {
   "cell_type": "code",
   "execution_count": null,
   "metadata": {
    "collapsed": true
   },
   "outputs": [],
   "source": []
  }
 ],
 "metadata": {
  "kernelspec": {
   "display_name": "Python 2",
   "language": "python",
   "name": "python2"
  },
  "language_info": {
   "codemirror_mode": {
    "name": "ipython",
    "version": 2
   },
   "file_extension": ".py",
   "mimetype": "text/x-python",
   "name": "python",
   "nbconvert_exporter": "python",
   "pygments_lexer": "ipython2",
   "version": "2.7.9"
  }
 },
 "nbformat": 4,
 "nbformat_minor": 1
}
