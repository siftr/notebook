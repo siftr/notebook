{
 "cells": [
  {
   "cell_type": "code",
   "execution_count": 1,
   "metadata": {
    "collapsed": true
   },
   "outputs": [],
   "source": [
    "import tensorflow as tf\n",
    "import cv2\n",
    "from tensorflow.python.training import saver as tf_saver"
   ]
  },
  {
   "cell_type": "code",
   "execution_count": 2,
   "metadata": {
    "collapsed": true
   },
   "outputs": [],
   "source": [
    "from tensorflow.models.slim.datasets import custom_data, dataset_factory"
   ]
  },
  {
   "cell_type": "code",
   "execution_count": 3,
   "metadata": {
    "collapsed": true
   },
   "outputs": [],
   "source": [
    "slim = tf.contrib.slim"
   ]
  },
  {
   "cell_type": "code",
   "execution_count": 4,
   "metadata": {
    "collapsed": true
   },
   "outputs": [],
   "source": [
    "def preprocessing(image, size):\n",
    "    image = tf.to_float(image)\n",
    "    image = tf.image.resize_image_with_crop_or_pad(image, size, size)\n",
    "    return image"
   ]
  },
  {
   "cell_type": "code",
   "execution_count": 8,
   "metadata": {
    "collapsed": true
   },
   "outputs": [],
   "source": [
    "def inference(images, num_classes=2, is_training=False, prediction_fn=slim.softmax, scope='bnw'):\n",
    "    with slim.arg_scope([slim.conv2d, slim.fully_connected], activation_fn=tf.nn.relu):\n",
    "        #with tf.variable_scope(scope, 'bnw', [images, num_classes]):\n",
    "        net = slim.conv2d(images, 64, [5, 5], scope='conv1')\n",
    "        print(\"conv1 --> %s\"%net.get_shape())\n",
    "        net = slim.max_pool2d(net, [2, 2], stride=2, scope='pool1')\n",
    "        print(\"pool1 --> %s\"%net.get_shape())\n",
    "        net = slim.conv2d(images, 64, [5, 5], scope='conv2')\n",
    "        print(\"conv2 --> %s\"%net.get_shape())\n",
    "        net = slim.max_pool2d(net, [2, 2], stride=2, scope='pool2')\n",
    "        print(\"pool2 --> %s\"%net.get_shape())\n",
    "        net = slim.fully_connected(net, 192, scope='fc1')\n",
    "        print(\"fc1 --> %s\"%net.get_shape())\n",
    "        net = slim.fully_connected(net, 2, scope='fc2')\n",
    "        print(\"fc2 --> %s\"%net.get_shape())\n",
    "        net = slim.max_pool2d(net, [16, 16], scope='pool3')\n",
    "        print(\"pool3 --> %s\"%net.get_shape())\n",
    "        logits = tf.squeeze(net, [1, 2], name='logits')\n",
    "        print(\"logits --> %s\"%net.get_shape())\n",
    "    return logits\n"
   ]
  },
  {
   "cell_type": "code",
   "execution_count": 9,
   "metadata": {
    "collapsed": false
   },
   "outputs": [
    {
     "name": "stdout",
     "output_type": "stream",
     "text": [
      "Tensor(\"ExpandDims:0\", shape=(1, 32, 32, 3), dtype=float32)\n",
      "conv1 --> (1, 32, 32, 64)\n",
      "pool1 --> (1, 16, 16, 64)\n",
      "conv2 --> (1, 32, 32, 64)\n",
      "pool2 --> (1, 16, 16, 64)\n",
      "fc1 --> (1, 16, 16, 192)\n",
      "fc2 --> (1, 16, 16, 2)\n",
      "pool3 --> (1, 1, 1, 2)\n",
      "logits --> (1, 1, 1, 2)\n",
      "Tensor(\"ArgMax:0\", shape=(2,), dtype=int64)\n",
      "INFO:tensorflow:Restoring parameters from /home/siftr/apus/dl/model.ckpt-500\n",
      "INFO:tensorflow:global_step/sec: 0\n",
      "[0 0] [[ 0.  0.]]\n"
     ]
    }
   ],
   "source": [
    "with tf.Graph().as_default() as g:\n",
    "    tf_global_step = slim.get_or_create_global_step()\n",
    "    img_data = tf.gfile.FastGFile(\"/home/siftr/siftr-images/1.jpg\").read()\n",
    "    img_data = tf.cast(tf.image.decode_jpeg(img_data, channels=3), tf.float32)\n",
    "    img_data = tf.image.resize_image_with_crop_or_pad(img_data, 32, 32)\n",
    "    img_data = tf.expand_dims(img_data, [0])\n",
    "    print(img_data)\n",
    "\n",
    "    logits = inference(img_data, is_training=False)\n",
    "    predictions = tf.argmax(logits)\n",
    "    print(predictions)\n",
    "\n",
    "    sv = tf.train.Supervisor(logdir=\"/home/siftr/apus/dl/\")\n",
    "    with sv.managed_session() as sess:\n",
    "        predict, log = sess.run([predictions, logits])\n",
    "        print predict, log"
   ]
  },
  {
   "cell_type": "code",
   "execution_count": 10,
   "metadata": {
    "collapsed": true
   },
   "outputs": [],
   "source": [
    "##############################################"
   ]
  },
  {
   "cell_type": "code",
   "execution_count": 5,
   "metadata": {
    "collapsed": true
   },
   "outputs": [],
   "source": [
    "# def inference(images, num_classes=2, is_training=True, prediction_fn=slim.softmax, scope='bnw'):\n",
    "#     with slim.arg_scope([slim.conv2d, slim.fully_connected], activation_fn=tf.nn.relu):\n",
    "#         with tf.variable_scope(scope, 'bnw_var', [images, num_classes]):\n",
    "#             net = slim.conv2d(images, 64, [5, 5], scope='conv1')\n",
    "#             print(\"conv1 --> %s\"%net.get_shape())\n",
    "#             net = slim.max_pool2d(net, [2, 2], stride=2, scope='pool1')\n",
    "#             print(\"pool1 --> %s\"%net.get_shape())\n",
    "#             net = slim.conv2d(images, 64, [5, 5], scope='conv2')\n",
    "#             print(\"conv2 --> %s\"%net.get_shape())\n",
    "#             net = slim.max_pool2d(net, [2, 2], stride=2, scope='pool2')\n",
    "#             print(\"pool2 --> %s\"%net.get_shape())\n",
    "#             net = slim.fully_connected(net, 192, scope='fc1')\n",
    "#             print(\"fc1 --> %s\"%net.get_shape())\n",
    "#             net = slim.fully_connected(net, 2, scope='fc2')\n",
    "#             print(\"fc2 --> %s\"%net.get_shape())\n",
    "#             net = slim.max_pool2d(net, [16, 16], scope='pool3')\n",
    "#             print(\"pool3 --> %s\"%net.get_shape())\n",
    "#             logits = tf.squeeze(net, [1, 2], name='logits')\n",
    "#             print(\"logits --> %s\"%net.get_shape())\n",
    "#     return logits"
   ]
  },
  {
   "cell_type": "code",
   "execution_count": 6,
   "metadata": {
    "collapsed": false,
    "scrolled": true
   },
   "outputs": [],
   "source": [
    "# #with tf.Graph().as_default() as g:\n",
    "# #global_step = slim.create_global_step()\n",
    "# image = cv2.imread(\"/home/siftr/siftr-images/38.jpg\")\n",
    "# print image.shape\n",
    "# image = preprocessing(image, 32)\n",
    "# print image.get_shape()\n",
    "# image = tf.train.batch([image], batch_size=1, capacity=5)\n",
    "# print image\n",
    "# batch_queue = slim.prefetch_queue.prefetch_queue([image], capacity=2 * 1)\n",
    "# inf_logit = inference(image, is_training=False)\n",
    "# predict = tf.argmax(inf_logit, 1)\n",
    "\n",
    "# saver = tf_saver.Saver()\n",
    "# new_graph = tf.Graph()\n",
    "# with tf.Session() as sess:\n",
    "#     sess.run(tf.global_variables_initializer())\n",
    "#     new_saver = tf.train.import_meta_graph(\"/home/siftr/BNW/dl/model.ckpt-100.meta\")\n",
    "#     new_saver.restore(sess, '/home/siftr/BNW/dl/model.ckpt-100')    \n",
    "#     print 1\n",
    "#     p = sess.run(predict)    \n",
    "#     print p"
   ]
  }
 ],
 "metadata": {
  "kernelspec": {
   "display_name": "Python 2",
   "language": "python",
   "name": "python2"
  },
  "language_info": {
   "codemirror_mode": {
    "name": "ipython",
    "version": 2
   },
   "file_extension": ".py",
   "mimetype": "text/x-python",
   "name": "python",
   "nbconvert_exporter": "python",
   "pygments_lexer": "ipython2",
   "version": "2.7.9"
  }
 },
 "nbformat": 4,
 "nbformat_minor": 1
}
