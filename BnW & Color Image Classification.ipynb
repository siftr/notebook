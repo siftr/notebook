{
 "cells": [
  {
   "cell_type": "code",
   "execution_count": 1,
   "metadata": {
    "collapsed": true
   },
   "outputs": [],
   "source": [
    "# pre-requisites\n",
    "# creating dataset - 500 images bnw and 500 color images\n",
    "# create a labels.txt file and keep it with test and train directory at same level\n",
    "# partion it into train and test images\n",
    "# building tensorflow 'inception' inside models directory\n",
    "# building 'slim' a high level API inside models directory"
   ]
  },
  {
   "cell_type": "code",
   "execution_count": 2,
   "metadata": {
    "collapsed": true
   },
   "outputs": [],
   "source": [
    "# creating custom TFRF record file by running - \n",
    "# bazel-bin/inception/build_image_data \\\n",
    "#   --train_directory=\"/home/siftr/BNW/dataset/train/\" \\\n",
    "#   --validation_directory=\"/home/siftr/BNW/dataset/test/\" \\\n",
    "#   --output_directory=\"/home/siftr/BNW/TFRF/\" \\\n",
    "#   --labels_file=\"/home/siftr/BNW/dataset/labels.txt\" \\\n",
    "#   --train_shards=128 \\\n",
    "#   --validation_shards=24 \\\n",
    "#   --num_threads=8\n",
    "# look here if stuck - https://github.com/tensorflow/models/tree/master/inception#how-to-construct-a-new-dataset-for-retraining"
   ]
  },
  {
   "cell_type": "code",
   "execution_count": 3,
   "metadata": {
    "collapsed": true
   },
   "outputs": [],
   "source": [
    "# create custom dataset factory to read data insidel slim/datasets/\n",
    "# cp flowers.py custom_data.py\n",
    "# edit custom_data.py for number of validation/train data you have\n",
    "# register this custom_data in dataset_factory.py"
   ]
  },
  {
   "cell_type": "code",
   "execution_count": 4,
   "metadata": {
    "collapsed": false
   },
   "outputs": [],
   "source": [
    "import tensorflow as tf\n",
    "from tensorflow.models.slim.datasets import custom_data, dataset_factory"
   ]
  },
  {
   "cell_type": "code",
   "execution_count": 5,
   "metadata": {
    "collapsed": true
   },
   "outputs": [],
   "source": [
    "slim = tf.contrib.slim"
   ]
  },
  {
   "cell_type": "code",
   "execution_count": 6,
   "metadata": {
    "collapsed": true
   },
   "outputs": [],
   "source": [
    "def preprocessing(image, size):\n",
    "    image = tf.to_float(image)\n",
    "    image = tf.image.resize_image_with_crop_or_pad(image, size, size)\n",
    "    return image"
   ]
  },
  {
   "cell_type": "code",
   "execution_count": 7,
   "metadata": {
    "collapsed": true
   },
   "outputs": [],
   "source": [
    "def inference(images, num_classes=2, is_training=True, prediction_fn=slim.softmax, scope='bnw'):\n",
    "    with slim.arg_scope([slim.conv2d, slim.fully_connected], activation_fn=tf.nn.relu):\n",
    "        with tf.variable_scope(scope, 'bnw', [images, num_classes]):\n",
    "            net = slim.conv2d(images, 64, [5, 5], scope='conv1')\n",
    "            print(\"conv1 --> %s\"%net.get_shape())\n",
    "            net = slim.max_pool2d(net, [2, 2], stride=2, scope='pool1')\n",
    "            print(\"pool1 --> %s\"%net.get_shape())\n",
    "            net = slim.conv2d(images, 64, [5, 5], scope='conv2')\n",
    "            print(\"conv2 --> %s\"%net.get_shape())\n",
    "            net = slim.max_pool2d(net, [2, 2], stride=2, scope='pool2')\n",
    "            print(\"pool2 --> %s\"%net.get_shape())\n",
    "            net = slim.fully_connected(net, 192, scope='fc1')\n",
    "            print(\"fc1 --> %s\"%net.get_shape())\n",
    "            net = slim.fully_connected(net, 2, scope='fc2')\n",
    "            print(\"fc2 --> %s\"%net.get_shape())\n",
    "            net = slim.max_pool2d(net, [16, 16], scope='pool3')\n",
    "            print(\"pool3 --> %s\"%net.get_shape())\n",
    "            logits = tf.squeeze(net, [1, 2], name='logits')\n",
    "            print(\"logits --> %s\"%net.get_shape())\n",
    "    return logits"
   ]
  },
  {
   "cell_type": "code",
   "execution_count": 8,
   "metadata": {
    "collapsed": false,
    "scrolled": true
   },
   "outputs": [
    {
     "name": "stdout",
     "output_type": "stream",
     "text": [
      "conv1 --> (16, 32, 32, 64)\n",
      "pool1 --> (16, 16, 16, 64)\n",
      "conv2 --> (16, 32, 32, 64)\n",
      "pool2 --> (16, 16, 16, 64)\n",
      "fc1 --> (16, 16, 16, 192)\n",
      "fc2 --> (16, 16, 16, 2)\n",
      "pool3 --> (16, 1, 1, 2)\n",
      "logits --> (16, 1, 1, 2)\n",
      "WARNING:tensorflow:From <ipython-input-8-dd9fa5976afc>:13: softmax_cross_entropy (from tensorflow.contrib.losses.python.losses.loss_ops) is deprecated and will be removed after 2016-12-30.\n",
      "Instructions for updating:\n",
      "Use tf.losses.softmax_cross_entropy instead. Note that the order of the logits and labels arguments has been changed.\n",
      "WARNING:tensorflow:From /usr/local/lib/python2.7/dist-packages/tensorflow/contrib/losses/python/losses/loss_ops.py:398: compute_weighted_loss (from tensorflow.contrib.losses.python.losses.loss_ops) is deprecated and will be removed after 2016-12-30.\n",
      "Instructions for updating:\n",
      "Use tf.losses.compute_weighted_loss instead.\n",
      "WARNING:tensorflow:From /usr/local/lib/python2.7/dist-packages/tensorflow/contrib/losses/python/losses/loss_ops.py:151: add_loss (from tensorflow.contrib.losses.python.losses.loss_ops) is deprecated and will be removed after 2016-12-30.\n",
      "Instructions for updating:\n",
      "Use tf.losses.add_loss instead.\n",
      "WARNING:tensorflow:From <ipython-input-8-dd9fa5976afc>:14: get_total_loss (from tensorflow.contrib.losses.python.losses.loss_ops) is deprecated and will be removed after 2016-12-30.\n",
      "Instructions for updating:\n",
      "Use tf.losses.get_total_loss instead.\n",
      "WARNING:tensorflow:From /usr/local/lib/python2.7/dist-packages/tensorflow/contrib/losses/python/losses/loss_ops.py:261: get_losses (from tensorflow.contrib.losses.python.losses.loss_ops) is deprecated and will be removed after 2016-12-30.\n",
      "Instructions for updating:\n",
      "Use tf.losses.get_losses instead.\n",
      "WARNING:tensorflow:From /usr/local/lib/python2.7/dist-packages/tensorflow/contrib/losses/python/losses/loss_ops.py:263: get_regularization_losses (from tensorflow.contrib.losses.python.losses.loss_ops) is deprecated and will be removed after 2016-12-30.\n",
      "Instructions for updating:\n",
      "Use tf.losses.get_regularization_losses instead.\n",
      "INFO:tensorflow:Starting Session.\n",
      "INFO:tensorflow:Starting Queues.\n",
      "INFO:tensorflow:global_step/sec: 0\n",
      "INFO:tensorflow:global step 1: loss = 4.9408 (0.40 sec/step)\n",
      "INFO:tensorflow:Stopping Training.\n",
      "INFO:tensorflow:Finished training! Saving model to disk.\n"
     ]
    }
   ],
   "source": [
    "with tf.Graph().as_default():\n",
    "    global_step = slim.create_global_step()\n",
    "    dataset = dataset_factory.get_dataset('custom_data', 'train', '/home/siftr/BNW/TFRF/')\n",
    "    provider = slim.dataset_data_provider.DatasetDataProvider(dataset, num_readers=2,\n",
    "                        common_queue_capacity=20 * 16, common_queue_min=10 * 16)\n",
    "    [image, label] = provider.get(['image', 'label'])\n",
    "    image = preprocessing(image, 32)\n",
    "    images, labels = tf.train.batch([image, label], batch_size=16, num_threads=2, capacity=5 * 16)\n",
    "    labels = slim.one_hot_encoding(labels, 2)\n",
    "    batch_queue = slim.prefetch_queue.prefetch_queue([images, labels], capacity=2 * 1)\n",
    "    \n",
    "    predictions = inference(images, is_training=True)\n",
    "    slim.losses.softmax_cross_entropy(predictions, labels)\n",
    "    total_loss = slim.losses.get_total_loss()\n",
    "    \n",
    "    learning_rate = tf.train.exponential_decay(0.01, global_step, 500, 0.75, staircase=True, name='exponential_decay_learning_rate')\n",
    "    optimizer = tf.train.AdamOptimizer(learning_rate)\n",
    "    train_tensor = slim.learning.create_train_op(total_loss, optimizer)\n",
    "    slim.learning.train(\n",
    "        train_tensor,\n",
    "        \"/home/siftr/BNW/demologs/\",\n",
    "        number_of_steps=1,\n",
    "        save_summaries_secs=120,\n",
    "    )"
   ]
  }
 ],
 "metadata": {
  "kernelspec": {
   "display_name": "Python 2",
   "language": "python",
   "name": "python2"
  },
  "language_info": {
   "codemirror_mode": {
    "name": "ipython",
    "version": 2
   },
   "file_extension": ".py",
   "mimetype": "text/x-python",
   "name": "python",
   "nbconvert_exporter": "python",
   "pygments_lexer": "ipython2",
   "version": "2.7.9"
  }
 },
 "nbformat": 4,
 "nbformat_minor": 1
}
